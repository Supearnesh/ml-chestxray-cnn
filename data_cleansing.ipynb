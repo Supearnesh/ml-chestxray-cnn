{
 "cells": [
  {
   "cell_type": "code",
   "execution_count": 1,
   "id": "grateful-concept",
   "metadata": {},
   "outputs": [],
   "source": [
    "# Import libraries for exploratory data analysis and model training\n",
    "import numpy as np\n",
    "import pandas as pd\n",
    "from PIL import Image\n",
    "from torchvision import transforms as T"
   ]
  },
  {
   "cell_type": "code",
   "execution_count": 2,
   "id": "greater-conducting",
   "metadata": {},
   "outputs": [],
   "source": [
    "from glob import glob\n",
    "\n",
    "# Create a list 'files' of the 5573 downloaded images saved locally\n",
    "xray_files = np.array(glob('chestXrays/all/*'))"
   ]
  },
  {
   "cell_type": "code",
   "execution_count": 3,
   "id": "sitting-strengthening",
   "metadata": {},
   "outputs": [
    {
     "data": {
      "text/plain": [
       "array(['chestXrays/all/person281_bacteria_1328.jpeg',\n",
       "       'chestXrays/all/person294_bacteria_1380.jpeg',\n",
       "       'chestXrays/all/person998_bacteria_2927.jpeg', ...,\n",
       "       'chestXrays/all/IM-0312-0001.jpeg',\n",
       "       'chestXrays/all/person260_bacteria_1223.jpeg',\n",
       "       'chestXrays/all/person25_bacteria_115.jpeg'], dtype='<U45')"
      ]
     },
     "execution_count": 3,
     "metadata": {},
     "output_type": "execute_result"
    }
   ],
   "source": [
    "# Check that file names have been stored correctly\n",
    "xray_files"
   ]
  },
  {
   "cell_type": "code",
   "execution_count": 4,
   "id": "endangered-founder",
   "metadata": {},
   "outputs": [],
   "source": [
    "# Create a dataframe with file names so we can use 'apply()' later to transform images to tensors\n",
    "xray_df = pd.DataFrame(data=xray_files, columns=['file_name'])"
   ]
  },
  {
   "cell_type": "code",
   "execution_count": 5,
   "id": "conceptual-glenn",
   "metadata": {},
   "outputs": [],
   "source": [
    "def get_shape(tensor):\n",
    "    return tensor.shape[0]"
   ]
  },
  {
   "cell_type": "code",
   "execution_count": 6,
   "id": "reported-thumb",
   "metadata": {},
   "outputs": [
    {
     "data": {
      "text/html": [
       "<div>\n",
       "<style scoped>\n",
       "    .dataframe tbody tr th:only-of-type {\n",
       "        vertical-align: middle;\n",
       "    }\n",
       "\n",
       "    .dataframe tbody tr th {\n",
       "        vertical-align: top;\n",
       "    }\n",
       "\n",
       "    .dataframe thead th {\n",
       "        text-align: right;\n",
       "    }\n",
       "</style>\n",
       "<table border=\"1\" class=\"dataframe\">\n",
       "  <thead>\n",
       "    <tr style=\"text-align: right;\">\n",
       "      <th></th>\n",
       "      <th>file_name</th>\n",
       "    </tr>\n",
       "  </thead>\n",
       "  <tbody>\n",
       "    <tr>\n",
       "      <th>0</th>\n",
       "      <td>chestXrays/all/person281_bacteria_1328.jpeg</td>\n",
       "    </tr>\n",
       "    <tr>\n",
       "      <th>1</th>\n",
       "      <td>chestXrays/all/person294_bacteria_1380.jpeg</td>\n",
       "    </tr>\n",
       "    <tr>\n",
       "      <th>2</th>\n",
       "      <td>chestXrays/all/person998_bacteria_2927.jpeg</td>\n",
       "    </tr>\n",
       "    <tr>\n",
       "      <th>3</th>\n",
       "      <td>chestXrays/all/person59_bacteria_282.jpeg</td>\n",
       "    </tr>\n",
       "    <tr>\n",
       "      <th>4</th>\n",
       "      <td>chestXrays/all/person115_virus_218.jpeg</td>\n",
       "    </tr>\n",
       "  </tbody>\n",
       "</table>\n",
       "</div>"
      ],
      "text/plain": [
       "                                     file_name\n",
       "0  chestXrays/all/person281_bacteria_1328.jpeg\n",
       "1  chestXrays/all/person294_bacteria_1380.jpeg\n",
       "2  chestXrays/all/person998_bacteria_2927.jpeg\n",
       "3    chestXrays/all/person59_bacteria_282.jpeg\n",
       "4      chestXrays/all/person115_virus_218.jpeg"
      ]
     },
     "execution_count": 6,
     "metadata": {},
     "output_type": "execute_result"
    }
   ],
   "source": [
    "# Ensure that the dataframe is correctly structured\n",
    "xray_df.head()"
   ]
  },
  {
   "cell_type": "code",
   "execution_count": 7,
   "id": "stunning-uniform",
   "metadata": {},
   "outputs": [],
   "source": [
    "# Simple function to transform the images for processing\n",
    "def to_tensor(img_url):\n",
    "    transform = T.Compose([T.Resize(112), T.Resize((112,160)), T.ToTensor()])\n",
    "    return transform(Image.open(img_url))"
   ]
  },
  {
   "cell_type": "code",
   "execution_count": 8,
   "id": "attractive-point",
   "metadata": {},
   "outputs": [
    {
     "name": "stdout",
     "output_type": "stream",
     "text": [
      "torch.Size([1, 112, 160])\n",
      "torch.Size([1, 112, 160])\n",
      "torch.Size([1, 112, 160])\n",
      "torch.Size([1, 112, 160])\n",
      "torch.Size([1, 112, 160])\n"
     ]
    },
    {
     "data": {
      "text/plain": [
       "1"
      ]
     },
     "execution_count": 8,
     "metadata": {},
     "output_type": "execute_result"
    }
   ],
   "source": [
    "# Verify tensor shape across a few samples\n",
    "for xray in xray_files[:5]:\n",
    "    print(to_tensor(xray).shape)\n",
    "    \n",
    "to_tensor(xray_files[0]).shape[0]"
   ]
  },
  {
   "cell_type": "code",
   "execution_count": 9,
   "id": "developed-document",
   "metadata": {},
   "outputs": [],
   "source": [
    "# Create a new column 'tensor' with the to_tensor() function applied to 'file_name'\n",
    "xray_df['tensor'] = xray_df['file_name'].apply(to_tensor)"
   ]
  },
  {
   "cell_type": "code",
   "execution_count": 10,
   "id": "everyday-saint",
   "metadata": {},
   "outputs": [],
   "source": [
    "# Create a new function to get shape of tensors that can be applied to a dataframe column\n",
    "def get_shape(tensor):\n",
    "    return tensor.shape[0]"
   ]
  },
  {
   "cell_type": "code",
   "execution_count": 11,
   "id": "played-kinase",
   "metadata": {},
   "outputs": [
    {
     "data": {
      "text/plain": [
       "1"
      ]
     },
     "execution_count": 11,
     "metadata": {},
     "output_type": "execute_result"
    }
   ],
   "source": [
    "# Test the get_shape() function to ensure it works properly\n",
    "get_shape(xray_df['tensor'][0])"
   ]
  },
  {
   "cell_type": "code",
   "execution_count": 12,
   "id": "sapphire-recall",
   "metadata": {},
   "outputs": [],
   "source": [
    "xray_df['channels'] = xray_df['tensor'].apply(get_shape)"
   ]
  },
  {
   "cell_type": "code",
   "execution_count": 13,
   "id": "medium-aurora",
   "metadata": {},
   "outputs": [
    {
     "data": {
      "text/plain": [
       "Series([], Name: file_name, dtype: object)"
      ]
     },
     "execution_count": 13,
     "metadata": {},
     "output_type": "execute_result"
    }
   ],
   "source": [
    "# Check to make sure all images are grayscale and have 1 channel\n",
    "xray_df[xray_df['channels']>1]['file_name'].head()"
   ]
  },
  {
   "cell_type": "code",
   "execution_count": 14,
   "id": "pressed-flush",
   "metadata": {},
   "outputs": [
    {
     "name": "stdout",
     "output_type": "stream",
     "text": [
      "0 files removed.\n"
     ]
    }
   ],
   "source": [
    "import os\n",
    "\n",
    "# Remove any color images with 3 channels\n",
    "\n",
    "count = 0\n",
    "\n",
    "for file in xray_df[xray_df['channels']>1]['file_name']:\n",
    "    os.remove(file)\n",
    "    count+=1\n",
    "\n",
    "print('{} files removed.'.format(count))"
   ]
  },
  {
   "cell_type": "code",
   "execution_count": 15,
   "id": "reserved-romania",
   "metadata": {},
   "outputs": [
    {
     "data": {
      "text/html": [
       "<div>\n",
       "<style scoped>\n",
       "    .dataframe tbody tr th:only-of-type {\n",
       "        vertical-align: middle;\n",
       "    }\n",
       "\n",
       "    .dataframe tbody tr th {\n",
       "        vertical-align: top;\n",
       "    }\n",
       "\n",
       "    .dataframe thead th {\n",
       "        text-align: right;\n",
       "    }\n",
       "</style>\n",
       "<table border=\"1\" class=\"dataframe\">\n",
       "  <thead>\n",
       "    <tr style=\"text-align: right;\">\n",
       "      <th></th>\n",
       "      <th>file_name</th>\n",
       "      <th>tensor</th>\n",
       "      <th>channels</th>\n",
       "    </tr>\n",
       "  </thead>\n",
       "  <tbody>\n",
       "    <tr>\n",
       "      <th>0</th>\n",
       "      <td>chestXrays/all/person281_bacteria_1328.jpeg</td>\n",
       "      <td>[[[tensor(0.5804), tensor(0.5765), tensor(0.57...</td>\n",
       "      <td>1</td>\n",
       "    </tr>\n",
       "    <tr>\n",
       "      <th>1</th>\n",
       "      <td>chestXrays/all/person294_bacteria_1380.jpeg</td>\n",
       "      <td>[[[tensor(0.6941), tensor(0.6824), tensor(0.64...</td>\n",
       "      <td>1</td>\n",
       "    </tr>\n",
       "    <tr>\n",
       "      <th>2</th>\n",
       "      <td>chestXrays/all/person998_bacteria_2927.jpeg</td>\n",
       "      <td>[[[tensor(0.8745), tensor(0.8235), tensor(0.71...</td>\n",
       "      <td>1</td>\n",
       "    </tr>\n",
       "    <tr>\n",
       "      <th>3</th>\n",
       "      <td>chestXrays/all/person59_bacteria_282.jpeg</td>\n",
       "      <td>[[[tensor(0.0471), tensor(0.0392), tensor(0.03...</td>\n",
       "      <td>1</td>\n",
       "    </tr>\n",
       "    <tr>\n",
       "      <th>4</th>\n",
       "      <td>chestXrays/all/person115_virus_218.jpeg</td>\n",
       "      <td>[[[tensor(0.3529), tensor(0.4039), tensor(0.49...</td>\n",
       "      <td>1</td>\n",
       "    </tr>\n",
       "  </tbody>\n",
       "</table>\n",
       "</div>"
      ],
      "text/plain": [
       "                                     file_name  \\\n",
       "0  chestXrays/all/person281_bacteria_1328.jpeg   \n",
       "1  chestXrays/all/person294_bacteria_1380.jpeg   \n",
       "2  chestXrays/all/person998_bacteria_2927.jpeg   \n",
       "3    chestXrays/all/person59_bacteria_282.jpeg   \n",
       "4      chestXrays/all/person115_virus_218.jpeg   \n",
       "\n",
       "                                              tensor  channels  \n",
       "0  [[[tensor(0.5804), tensor(0.5765), tensor(0.57...         1  \n",
       "1  [[[tensor(0.6941), tensor(0.6824), tensor(0.64...         1  \n",
       "2  [[[tensor(0.8745), tensor(0.8235), tensor(0.71...         1  \n",
       "3  [[[tensor(0.0471), tensor(0.0392), tensor(0.03...         1  \n",
       "4  [[[tensor(0.3529), tensor(0.4039), tensor(0.49...         1  "
      ]
     },
     "execution_count": 15,
     "metadata": {},
     "output_type": "execute_result"
    }
   ],
   "source": [
    "# Verify that the dataframe is correctly created\n",
    "xray_df.head()"
   ]
  },
  {
   "cell_type": "code",
   "execution_count": 16,
   "id": "special-wagon",
   "metadata": {},
   "outputs": [
    {
     "data": {
      "text/plain": [
       "torch.Size([1, 112, 160])"
      ]
     },
     "execution_count": 16,
     "metadata": {},
     "output_type": "execute_result"
    }
   ],
   "source": [
    "# Verify that the shape of the tensors are as expected\n",
    "xray_df['tensor'][1].shape"
   ]
  },
  {
   "cell_type": "code",
   "execution_count": 17,
   "id": "interior-turkey",
   "metadata": {},
   "outputs": [
    {
     "name": "stdout",
     "output_type": "stream",
     "text": [
      "mean: 0.4954160153865814\n",
      "std: 0.05647209659218788\n"
     ]
    }
   ],
   "source": [
    "# Calculate mean and standard deviation of image tensors\n",
    "tensor_vals = []\n",
    "\n",
    "for tensor in xray_df['tensor'][:4]:\n",
    "    tensor_vals.append(tensor.mean())\n",
    "\n",
    "img_mean = np.mean(tensor_vals)\n",
    "img_std = np.std(tensor_vals)\n",
    "    \n",
    "print('mean: {}'.format(img_mean))\n",
    "print('std: {}'.format(img_std))"
   ]
  }
 ],
 "metadata": {
  "kernelspec": {
   "display_name": "conda_pytorch_p36",
   "language": "python",
   "name": "conda_pytorch_p36"
  },
  "language_info": {
   "codemirror_mode": {
    "name": "ipython",
    "version": 3
   },
   "file_extension": ".py",
   "mimetype": "text/x-python",
   "name": "python",
   "nbconvert_exporter": "python",
   "pygments_lexer": "ipython3",
   "version": "3.6.13"
  }
 },
 "nbformat": 4,
 "nbformat_minor": 5
}
